{
 "cells": [
  {
   "cell_type": "code",
   "execution_count": 12,
   "metadata": {},
   "outputs": [
    {
     "name": "stdout",
     "output_type": "stream",
     "text": [
      "Defaulting to user installation because normal site-packages is not writeable\n",
      "Requirement already satisfied: pyvista in /home/vscode/.local/lib/python3.11/site-packages (0.43.1)\n",
      "Requirement already satisfied: matplotlib>=3.0.1 in /usr/local/lib/python3.11/site-packages (from pyvista) (3.8.2)\n",
      "Requirement already satisfied: numpy>=1.21.0 in /usr/local/lib/python3.11/site-packages (from pyvista) (1.26.3)\n",
      "Requirement already satisfied: pillow in /usr/local/lib/python3.11/site-packages (from pyvista) (10.2.0)\n",
      "Requirement already satisfied: pooch in /home/vscode/.local/lib/python3.11/site-packages (from pyvista) (1.8.0)\n",
      "Requirement already satisfied: scooby>=0.5.1 in /home/vscode/.local/lib/python3.11/site-packages (from pyvista) (0.9.2)\n",
      "Requirement already satisfied: vtk in /home/vscode/.local/lib/python3.11/site-packages (from pyvista) (9.3.0)\n",
      "Requirement already satisfied: contourpy>=1.0.1 in /usr/local/lib/python3.11/site-packages (from matplotlib>=3.0.1->pyvista) (1.2.0)\n",
      "Requirement already satisfied: cycler>=0.10 in /usr/local/lib/python3.11/site-packages (from matplotlib>=3.0.1->pyvista) (0.12.1)\n",
      "Requirement already satisfied: fonttools>=4.22.0 in /usr/local/lib/python3.11/site-packages (from matplotlib>=3.0.1->pyvista) (4.47.0)\n",
      "Requirement already satisfied: kiwisolver>=1.3.1 in /usr/local/lib/python3.11/site-packages (from matplotlib>=3.0.1->pyvista) (1.4.5)\n",
      "Requirement already satisfied: packaging>=20.0 in /usr/local/lib/python3.11/site-packages (from matplotlib>=3.0.1->pyvista) (23.2)\n",
      "Requirement already satisfied: pyparsing>=2.3.1 in /usr/local/lib/python3.11/site-packages (from matplotlib>=3.0.1->pyvista) (3.1.1)\n",
      "Requirement already satisfied: python-dateutil>=2.7 in /usr/local/lib/python3.11/site-packages (from matplotlib>=3.0.1->pyvista) (2.8.2)\n",
      "Requirement already satisfied: platformdirs>=2.5.0 in /usr/local/lib/python3.11/site-packages (from pooch->pyvista) (4.1.0)\n",
      "Requirement already satisfied: requests>=2.19.0 in /home/vscode/.local/lib/python3.11/site-packages (from pooch->pyvista) (2.31.0)\n",
      "Requirement already satisfied: six>=1.5 in /usr/local/lib/python3.11/site-packages (from python-dateutil>=2.7->matplotlib>=3.0.1->pyvista) (1.16.0)\n",
      "Requirement already satisfied: charset-normalizer<4,>=2 in /home/vscode/.local/lib/python3.11/site-packages (from requests>=2.19.0->pooch->pyvista) (3.3.2)\n",
      "Requirement already satisfied: idna<4,>=2.5 in /home/vscode/.local/lib/python3.11/site-packages (from requests>=2.19.0->pooch->pyvista) (3.6)\n",
      "Requirement already satisfied: urllib3<3,>=1.21.1 in /home/vscode/.local/lib/python3.11/site-packages (from requests>=2.19.0->pooch->pyvista) (2.1.0)\n",
      "Requirement already satisfied: certifi>=2017.4.17 in /home/vscode/.local/lib/python3.11/site-packages (from requests>=2.19.0->pooch->pyvista) (2023.11.17)\n"
     ]
    }
   ],
   "source": [
    "\"\"\"pyvistaの環境設定\n",
    "\"\"\"\n",
    "\n",
    "# apt\n",
    "! sudo apt-get install libgl1-mesa-dev\n",
    "\n",
    "# pip\n",
    "! pip install pyvista\n",
    "! pip install ipywidgets\n",
    "! pip install trame\n",
    "! pip install --upgrade trame-vtk\n",
    "! pip install --upgrade trame-vuetify"
   ]
  },
  {
   "cell_type": "code",
   "execution_count": 2,
   "metadata": {},
   "outputs": [],
   "source": [
    "\"\"\"pyvistaのテスト\n",
    "\"\"\"\n",
    "import pyvista as pv"
   ]
  },
  {
   "cell_type": "code",
   "execution_count": 28,
   "metadata": {},
   "outputs": [
    {
     "name": "stdout",
     "output_type": "stream",
     "text": [
      "--2024-01-05 08:08:53--  https://graphics.stanford.edu/~mdfisher/Data/Meshes/bunny.obj\n",
      "Resolving graphics.stanford.edu (graphics.stanford.edu)... 171.67.77.70, 64:ff9b::ab43:4d46\n",
      "Connecting to graphics.stanford.edu (graphics.stanford.edu)|171.67.77.70|:443... connected.\n",
      "HTTP request sent, awaiting response... 200 OK\n",
      "Length: 205917 (201K) [text/plain]\n",
      "Saving to: ‘bunny.obj.1’\n",
      "\n",
      "bunny.obj.1         100%[===================>] 201.09K   155KB/s    in 1.3s    \n",
      "\n",
      "2024-01-05 08:08:55 (155 KB/s) - ‘bunny.obj.1’ saved [205917/205917]\n",
      "\n"
     ]
    },
    {
     "data": {
      "application/vnd.jupyter.widget-view+json": {
       "model_id": "54282ecdaa8e4f4bbbd16185613b6c94",
       "version_major": 2,
       "version_minor": 0
      },
      "text/plain": [
       "Widget(value='<iframe src=\"http://localhost:46611/index.html?ui=P_0x7fe944199110_9&reconnect=auto\" class=\"pyvi…"
      ]
     },
     "metadata": {},
     "output_type": "display_data"
    }
   ],
   "source": [
    "! wget https://graphics.stanford.edu/~mdfisher/Data/Meshes/bunny.obj \n",
    "mesh = pv.read(\"bunny.obj\")\n",
    "\n",
    "plotter = pv.Plotter(off_screen=True)\n",
    "plotter.add_mesh(mesh)\n",
    "plotter.show(screenshot=\"myscreenshot.png\")"
   ]
  },
  {
   "cell_type": "code",
   "execution_count": 30,
   "metadata": {},
   "outputs": [],
   "source": [
    "plotter.export_html(\"bunny.html\")"
   ]
  },
  {
   "cell_type": "code",
   "execution_count": 24,
   "metadata": {},
   "outputs": [],
   "source": [
    "freq = (1, 1, 1)\n",
    "noise = pv.perlin_noise(1, freq, (0, 0, 0))\n",
    "grid = pv.sample_function(noise, [0, 3.0, -0, 1.0, 0, 1.0], dim=(120, 40, 40))\n",
    "out = grid.threshold(0.02)"
   ]
  },
  {
   "cell_type": "code",
   "execution_count": 25,
   "metadata": {},
   "outputs": [
    {
     "data": {
      "application/vnd.jupyter.widget-view+json": {
       "model_id": "339bbc05fe374f55bb7239f084ed6b84",
       "version_major": 2,
       "version_minor": 0
      },
      "text/plain": [
       "Widget(value='<iframe src=\"http://localhost:46611/index.html?ui=P_0x7fe944199050_8&reconnect=auto\" class=\"pyvi…"
      ]
     },
     "metadata": {},
     "output_type": "display_data"
    }
   ],
   "source": [
    "mn, mx = [out['scalars'].min(), out['scalars'].max()]\n",
    "clim = (mn, mx * 1.8)\n",
    "\n",
    "out.plot(\n",
    "    cmap='gist_earth_r',\n",
    "    background='white',\n",
    "    show_scalar_bar=False,\n",
    "    lighting=True,\n",
    "    clim=clim,\n",
    "    show_edges=False,\n",
    ")"
   ]
  },
  {
   "cell_type": "code",
   "execution_count": 11,
   "metadata": {},
   "outputs": [
    {
     "name": "stdout",
     "output_type": "stream",
     "text": [
      "None\n"
     ]
    }
   ],
   "source": []
  },
  {
   "cell_type": "code",
   "execution_count": null,
   "metadata": {},
   "outputs": [],
   "source": []
  }
 ],
 "metadata": {
  "kernelspec": {
   "display_name": "Python 3",
   "language": "python",
   "name": "python3"
  },
  "language_info": {
   "codemirror_mode": {
    "name": "ipython",
    "version": 3
   },
   "file_extension": ".py",
   "mimetype": "text/x-python",
   "name": "python",
   "nbconvert_exporter": "python",
   "pygments_lexer": "ipython3",
   "version": "3.11.4"
  }
 },
 "nbformat": 4,
 "nbformat_minor": 2
}
