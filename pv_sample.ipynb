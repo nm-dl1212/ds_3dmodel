{
 "cells": [
  {
   "cell_type": "markdown",
   "metadata": {},
   "source": []
  },
  {
   "cell_type": "code",
   "execution_count": 12,
   "metadata": {},
   "outputs": [
    {
     "name": "stdout",
     "output_type": "stream",
     "text": [
      "Defaulting to user installation because normal site-packages is not writeable\n",
      "Requirement already satisfied: pyvista in /home/vscode/.local/lib/python3.11/site-packages (0.43.1)\n",
      "Requirement already satisfied: matplotlib>=3.0.1 in /usr/local/lib/python3.11/site-packages (from pyvista) (3.8.2)\n",
      "Requirement already satisfied: numpy>=1.21.0 in /usr/local/lib/python3.11/site-packages (from pyvista) (1.26.3)\n",
      "Requirement already satisfied: pillow in /usr/local/lib/python3.11/site-packages (from pyvista) (10.2.0)\n",
      "Requirement already satisfied: pooch in /home/vscode/.local/lib/python3.11/site-packages (from pyvista) (1.8.0)\n",
      "Requirement already satisfied: scooby>=0.5.1 in /home/vscode/.local/lib/python3.11/site-packages (from pyvista) (0.9.2)\n",
      "Requirement already satisfied: vtk in /home/vscode/.local/lib/python3.11/site-packages (from pyvista) (9.3.0)\n",
      "Requirement already satisfied: contourpy>=1.0.1 in /usr/local/lib/python3.11/site-packages (from matplotlib>=3.0.1->pyvista) (1.2.0)\n",
      "Requirement already satisfied: cycler>=0.10 in /usr/local/lib/python3.11/site-packages (from matplotlib>=3.0.1->pyvista) (0.12.1)\n",
      "Requirement already satisfied: fonttools>=4.22.0 in /usr/local/lib/python3.11/site-packages (from matplotlib>=3.0.1->pyvista) (4.47.0)\n",
      "Requirement already satisfied: kiwisolver>=1.3.1 in /usr/local/lib/python3.11/site-packages (from matplotlib>=3.0.1->pyvista) (1.4.5)\n",
      "Requirement already satisfied: packaging>=20.0 in /usr/local/lib/python3.11/site-packages (from matplotlib>=3.0.1->pyvista) (23.2)\n",
      "Requirement already satisfied: pyparsing>=2.3.1 in /usr/local/lib/python3.11/site-packages (from matplotlib>=3.0.1->pyvista) (3.1.1)\n",
      "Requirement already satisfied: python-dateutil>=2.7 in /usr/local/lib/python3.11/site-packages (from matplotlib>=3.0.1->pyvista) (2.8.2)\n",
      "Requirement already satisfied: platformdirs>=2.5.0 in /usr/local/lib/python3.11/site-packages (from pooch->pyvista) (4.1.0)\n",
      "Requirement already satisfied: requests>=2.19.0 in /home/vscode/.local/lib/python3.11/site-packages (from pooch->pyvista) (2.31.0)\n",
      "Requirement already satisfied: six>=1.5 in /usr/local/lib/python3.11/site-packages (from python-dateutil>=2.7->matplotlib>=3.0.1->pyvista) (1.16.0)\n",
      "Requirement already satisfied: charset-normalizer<4,>=2 in /home/vscode/.local/lib/python3.11/site-packages (from requests>=2.19.0->pooch->pyvista) (3.3.2)\n",
      "Requirement already satisfied: idna<4,>=2.5 in /home/vscode/.local/lib/python3.11/site-packages (from requests>=2.19.0->pooch->pyvista) (3.6)\n",
      "Requirement already satisfied: urllib3<3,>=1.21.1 in /home/vscode/.local/lib/python3.11/site-packages (from requests>=2.19.0->pooch->pyvista) (2.1.0)\n",
      "Requirement already satisfied: certifi>=2017.4.17 in /home/vscode/.local/lib/python3.11/site-packages (from requests>=2.19.0->pooch->pyvista) (2023.11.17)\n"
     ]
    }
   ],
   "source": [
    "\"\"\"pyvistaの環境設定\n",
    "\"\"\"\n",
    "\n",
    "# apt\n",
    "! sudo apt-get install libgl1-mesa-dev\n",
    "\n",
    "# pip\n",
    "! pip install pyvista\n",
    "! pip install ipywidgets\n",
    "! pip install trame\n",
    "! pip install --upgrade trame-vtk\n",
    "! pip install --upgrade trame-vuetify"
   ]
  },
  {
   "cell_type": "code",
   "execution_count": 3,
   "metadata": {},
   "outputs": [
    {
     "name": "stdout",
     "output_type": "stream",
     "text": [
      "--2024-01-05 07:50:39--  https://graphics.stanford.edu/~mdfisher/Data/Meshes/bunny.obj\n",
      "Resolving graphics.stanford.edu (graphics.stanford.edu)... 171.67.77.70, 64:ff9b::ab43:4d46\n",
      "Connecting to graphics.stanford.edu (graphics.stanford.edu)|171.67.77.70|:443... connected.\n",
      "HTTP request sent, awaiting response... 200 OK\n",
      "Length: 205917 (201K) [text/plain]\n",
      "Saving to: ‘bunny.obj’\n",
      "\n",
      "bunny.obj           100%[===================>] 201.09K   169KB/s    in 1.2s    \n",
      "\n",
      "2024-01-05 07:50:41 (169 KB/s) - ‘bunny.obj’ saved [205917/205917]\n",
      "\n"
     ]
    }
   ],
   "source": [
    "\"\"\"pyvistaのテスト\n",
    "\"\"\"\n",
    "import pyvista as pv"
   ]
  },
  {
   "cell_type": "code",
   "execution_count": 3,
   "metadata": {},
   "outputs": [
    {
     "data": {
      "application/vnd.jupyter.widget-view+json": {
       "model_id": "1a96a8cfd0674d73b4cfbfae5780e0c7",
       "version_major": 2,
       "version_minor": 0
      },
      "text/plain": [
       "Widget(value='<iframe src=\"http://localhost:33033/index.html?ui=P_0x7febac3cd8d0_0&reconnect=auto\" class=\"pyvi…"
      ]
     },
     "metadata": {},
     "output_type": "display_data"
    }
   ],
   "source": [
    "! wget https://graphics.stanford.edu/~mdfisher/Data/Meshes/bunny.obj \n",
    "mesh = pv.read(\"bunny.obj\")\n",
    "\n",
    "plotter = pv.Plotter(off_screen=True)\n",
    "plotter.add_mesh(mesh)\n",
    "plotter.show(screenshot=\"myscreenshot.png\")"
   ]
  },
  {
   "cell_type": "code",
   "execution_count": 18,
   "metadata": {},
   "outputs": [
    {
     "ename": "TypeError",
     "evalue": "`target` must be a PyVista mesh type.",
     "output_type": "error",
     "traceback": [
      "\u001b[0;31m---------------------------------------------------------------------------\u001b[0m",
      "\u001b[0;31mTypeError\u001b[0m                                 Traceback (most recent call last)",
      "Cell \u001b[0;32mIn[18], line 1\u001b[0m\n\u001b[0;32m----> 1\u001b[0m \u001b[43mmesh\u001b[49m\u001b[38;5;241;43m.\u001b[39;49m\u001b[43msample\u001b[49m\u001b[43m(\u001b[49m\u001b[38;5;241;43m256\u001b[39;49m\u001b[43m)\u001b[49m\n",
      "File \u001b[0;32m~/.local/lib/python3.11/site-packages/pyvista/core/filters/data_set.py:3620\u001b[0m, in \u001b[0;36mDataSetFilters.sample\u001b[0;34m(self, target, tolerance, pass_cell_data, pass_point_data, categorical, progress_bar, locator, pass_field_data, mark_blank, snap_to_closest_point)\u001b[0m\n\u001b[1;32m   3523\u001b[0m \u001b[38;5;250m\u001b[39m\u001b[38;5;124;03m\"\"\"Resample array data from a passed mesh onto this mesh.\u001b[39;00m\n\u001b[1;32m   3524\u001b[0m \n\u001b[1;32m   3525\u001b[0m \u001b[38;5;124;03mFor `mesh1.sample(mesh2)`, the arrays from `mesh2` are sampled onto\u001b[39;00m\n\u001b[0;32m   (...)\u001b[0m\n\u001b[1;32m   3617\u001b[0m \n\u001b[1;32m   3618\u001b[0m \u001b[38;5;124;03m\"\"\"\u001b[39;00m\n\u001b[1;32m   3619\u001b[0m \u001b[38;5;28;01mif\u001b[39;00m \u001b[38;5;129;01mnot\u001b[39;00m pyvista\u001b[38;5;241m.\u001b[39mis_pyvista_dataset(target):\n\u001b[0;32m-> 3620\u001b[0m     \u001b[38;5;28;01mraise\u001b[39;00m \u001b[38;5;167;01mTypeError\u001b[39;00m(\u001b[38;5;124m'\u001b[39m\u001b[38;5;124m`target` must be a PyVista mesh type.\u001b[39m\u001b[38;5;124m'\u001b[39m)\n\u001b[1;32m   3621\u001b[0m alg \u001b[38;5;241m=\u001b[39m _vtk\u001b[38;5;241m.\u001b[39mvtkResampleWithDataSet()  \u001b[38;5;66;03m# Construct the ResampleWithDataSet object\u001b[39;00m\n\u001b[1;32m   3622\u001b[0m alg\u001b[38;5;241m.\u001b[39mSetInputData(\u001b[38;5;28mself\u001b[39m)  \u001b[38;5;66;03m# Set the Input data (actually the source i.e. where to sample from)\u001b[39;00m\n",
      "\u001b[0;31mTypeError\u001b[0m: `target` must be a PyVista mesh type."
     ]
    }
   ],
   "source": [
    "mesh.sample()"
   ]
  }
 ],
 "metadata": {
  "kernelspec": {
   "display_name": "Python 3",
   "language": "python",
   "name": "python3"
  },
  "language_info": {
   "codemirror_mode": {
    "name": "ipython",
    "version": 3
   },
   "file_extension": ".py",
   "mimetype": "text/x-python",
   "name": "python",
   "nbconvert_exporter": "python",
   "pygments_lexer": "ipython3",
   "version": "3.11.4"
  }
 },
 "nbformat": 4,
 "nbformat_minor": 2
}
